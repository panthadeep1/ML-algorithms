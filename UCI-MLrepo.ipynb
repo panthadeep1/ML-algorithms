{
 "cells": [
  {
   "cell_type": "code",
   "execution_count": 22,
   "id": "595e9481-4ba9-4dc9-a9fb-4ceb3a25438d",
   "metadata": {
    "scrolled": true
   },
   "outputs": [
    {
     "name": "stdout",
     "output_type": "stream",
     "text": [
      "10\n",
      "205\n",
      "This data set consists of three types of entities: (a) the specification of an auto in terms of various characteristics, (b) its assigned insurance risk rating, (c) its normalized losses in use as compared to other cars.  The second rating corresponds to the degree to which the auto is more risky than its price indicates. Cars are initially assigned a risk factor symbol associated with its price.   Then, if it is more risky (or less), this symbol is adjusted by moving it up (or down) the scale.  Actuarians call this process \"symboling\".  A value of +3 indicates that the auto is risky, -3 that it is probably pretty safe.\n",
      "\n",
      "The third factor is the relative average loss payment per insured vehicle year.  This value is normalized for all autos within a particular size classification (two-door small, station wagons, sports/speciality, etc...), and represents the average loss per car per year.\n",
      "\n",
      "Note: Several of the attributes in the database could be used as a \"class\" attribute.\n",
      "                 name     role         type demographic  \\\n",
      "0               price  Feature   Continuous        None   \n",
      "1         highway-mpg  Feature   Continuous        None   \n",
      "2            city-mpg  Feature   Continuous        None   \n",
      "3            peak-rpm  Feature   Continuous        None   \n",
      "4          horsepower  Feature   Continuous        None   \n",
      "5   compression-ratio  Feature   Continuous        None   \n",
      "6              stroke  Feature   Continuous        None   \n",
      "7                bore  Feature   Continuous        None   \n",
      "8         fuel-system  Feature  Categorical        None   \n",
      "9         engine-size  Feature   Continuous        None   \n",
      "10   num-of-cylinders  Feature      Integer        None   \n",
      "11        engine-type  Feature  Categorical        None   \n",
      "12        curb-weight  Feature   Continuous        None   \n",
      "13             height  Feature   Continuous        None   \n",
      "14              width  Feature   Continuous        None   \n",
      "15             length  Feature   Continuous        None   \n",
      "16         wheel-base  Feature   Continuous        None   \n",
      "17    engine-location  Feature       Binary        None   \n",
      "18       drive-wheels  Feature  Categorical        None   \n",
      "19         body-style  Feature  Categorical        None   \n",
      "20       num-of-doors  Feature      Integer        None   \n",
      "21         aspiration  Feature       Binary        None   \n",
      "22          fuel-type  Feature       Binary        None   \n",
      "23               make  Feature  Categorical        None   \n",
      "24  normalized-losses  Feature   Continuous        None   \n",
      "25          symboling   Target      Integer        None   \n",
      "\n",
      "                                          description units missing_values  \n",
      "0                       continuous from 5118 to 45400  None            yes  \n",
      "1                            continuous from 16 to 54  None             no  \n",
      "2                            continuous from 13 to 49  None             no  \n",
      "3                        continuous from 4150 to 6600  None            yes  \n",
      "4                           continuous from 48 to 288  None            yes  \n",
      "5                             continuous from 7 to 23  None             no  \n",
      "6                        continuous from 2.07 to 4.17  None            yes  \n",
      "7                        continuous from 2.54 to 3.94  None            yes  \n",
      "8        1bbl, 2bbl, 4bbl, idi, mfi, mpfi, spdi, spfi  None             no  \n",
      "9                           continuous from 61 to 326  None             no  \n",
      "10         eight, five, four, six, three, twelve, two  None             no  \n",
      "11             dohc, dohcv, l, ohc, ohcf, ohcv, rotor  None             no  \n",
      "12                       continuous from 1488 to 4066  None             no  \n",
      "13                       continuous from 47.8 to 59.8  None             no  \n",
      "14                       continuous from 60.3 to 72.3  None             no  \n",
      "15                     continuous from 141.1 to 208.1  None             no  \n",
      "16                         continuous from 86.6 120.9  None             no  \n",
      "17                                        front, rear  None             no  \n",
      "18                                      4wd, fwd, rwd  None             no  \n",
      "19      hardtop, wagon, sedan, hatchback, convertible  None             no  \n",
      "20                                          four, two  None            yes  \n",
      "21                                         std, turbo  None             no  \n",
      "22                                        diesel, gas  None             no  \n",
      "23  alfa-romero, audi, bmw, chevrolet, dodge, hond...  None             no  \n",
      "24                          continuous from 65 to 256  None            yes  \n",
      "25                             -3, -2, -1, 0, 1, 2, 3  None             no  \n"
     ]
    }
   ],
   "source": [
    "##Author: panthadeep_b; Time: 22.25 IST - 14Feb'25\n",
    "##WAP to fetch the UCI repo of ML datasets\n",
    "\n",
    "from ucimlrepo import fetch_ucirepo, list_available_datasets\n",
    "\n",
    "# check which datasets can be imported\n",
    "#list_UCI_datasets = list_available_datasets();\n",
    "#print(list_UCI_datasets);\n",
    "\n",
    "#import dataset\n",
    "automobile_data = fetch_ucirepo(id=10); \n",
    "\n",
    "# access data\n",
    "X = automobile_data.data.features\n",
    "y = automobile_data.data.targets\n",
    "\n",
    "# access metadata\n",
    "print(automobile_data.metadata.uci_id)\n",
    "print(automobile_data.metadata.num_instances)\n",
    "print(automobile_data.metadata.additional_info.summary)\n",
    "\n",
    "# access variable info in tabular format\n",
    "print(automobile_data.variables)\n",
    "\n",
    "\n",
    "\n"
   ]
  },
  {
   "cell_type": "code",
   "execution_count": null,
   "id": "ed5c86bc-d633-4697-b636-9a507b4708c9",
   "metadata": {},
   "outputs": [],
   "source": []
  }
 ],
 "metadata": {
  "kernelspec": {
   "display_name": "Python [conda env:base] *",
   "language": "python",
   "name": "conda-base-py"
  },
  "language_info": {
   "codemirror_mode": {
    "name": "ipython",
    "version": 3
   },
   "file_extension": ".py",
   "mimetype": "text/x-python",
   "name": "python",
   "nbconvert_exporter": "python",
   "pygments_lexer": "ipython3",
   "version": "3.12.2"
  }
 },
 "nbformat": 4,
 "nbformat_minor": 5
}
